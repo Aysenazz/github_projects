{
 "cells": [
  {
   "cell_type": "code",
   "execution_count": null,
   "metadata": {},
   "outputs": [],
   "source": [
    "import pandas as pd # importing pandas\n",
    "import os # import os (operating system module) to fetch directory (folder) contents,\n",
    "from mlxtend.frequent_patterns import apriori, association_rules\n",
    "import matplotlib.pyplot as plt\n",
    "import seaborn as sns"
   ]
  },
  {
   "cell_type": "code",
   "execution_count": null,
   "metadata": {},
   "outputs": [],
   "source": [
    "directory = 'bist30' #The directory where the individual csv files for stocks are\n",
    "files = os.listdir(directory) #get the files in the bist30 directory\n",
    "print(files)"
   ]
  },
  {
   "cell_type": "code",
   "execution_count": null,
   "metadata": {},
   "outputs": [],
   "source": [
    "#Read an example individual raw dataset for stock AKBNK and show it\n",
    "df=pd.read_csv('bist30/AKBNK.IS.csv')\n",
    "df"
   ]
  },
  {
   "cell_type": "code",
   "execution_count": null,
   "metadata": {},
   "outputs": [],
   "source": [
    "colNo=0 #Used when each stock column is inserted into the dataframe\n",
    "noOfRows=590 #Each stock should have 589 transactions + 1 column headings row\n",
    "dfAll=pd.DataFrame() #Create an empty dataframe which will hold all stocks data\n",
    "#User decides how many stocks to process altogether\n",
    "NoOfStocksToProcess=eval(input(\"How many stocks would you like to process: \"))\n",
    "for filename in files:\n",
    "    if filename.endswith('.csv'): #check that it is a csv file\n",
    "        df=pd.read_csv(directory+\"/\"+filename)\n",
    "        if len(df.index)==noOfRows: #if the data is complete for the stock (correct no.of rows:590)\n",
    "            closeColumn = df[\"Close\"] #Take the data from the Close column\n",
    "            # Find '.' from the start and extract filename without extension\n",
    "            colName=filename[0:filename.find(\".\")]\n",
    "            dfAll.insert(colNo, colName, closeColumn) #Insert the Close column of the stock using stock name\n",
    "            colNo+=1\n",
    "    if colNo==NoOfStocksToProcess: break #Exit the loop if the required number of stock data has been inserted\n",
    "print('Merged dataset:')\n",
    "dfAll #See the merged data"
   ]
  },
  {
   "cell_type": "code",
   "execution_count": null,
   "metadata": {
    "scrolled": true
   },
   "outputs": [],
   "source": [
    "df=dfAll #Now df also dataframe has all stocks data\n",
    "increaseOrDecrease=input(\"Would you like price increase (i) or decrease (d) associations?: \")\n",
    "for column in df:\n",
    "    df['next'] = df[column].shift(-1)\n",
    "    df[column]=df['next']-df[column]\n",
    "    df.drop(columns='next', inplace=True)\n",
    "    if increaseOrDecrease.lower()==\"i\":\n",
    "        df.loc[df[column] > 0, column] = 1\n",
    "        df.loc[df[column] <= 0, column] = 0\n",
    "        increaseOrDecreaseText =\"increased\"\n",
    "    else:\n",
    "        df.loc[df[column] >= 0, column] = 0\n",
    "        df.loc[df[column] <0, column] = 1\n",
    "        increaseOrDecreaseText =\"decreased\"\n",
    "df\n"
   ]
  },
  {
   "cell_type": "code",
   "execution_count": null,
   "metadata": {},
   "outputs": [],
   "source": [
    "df=df.dropna(axis=0) #Drop the rows where data is not available\n",
    "df"
   ]
  },
  {
   "cell_type": "code",
   "execution_count": null,
   "metadata": {},
   "outputs": [],
   "source": [
    "df.describe().loc[['mean', 'std']] #See the essential statistics for outliers"
   ]
  },
  {
   "cell_type": "code",
   "execution_count": null,
   "metadata": {},
   "outputs": [],
   "source": [
    "#Show charts for outliers if any\n",
    "plt.figure(figsize = (9,6))\n",
    "Values= list(df.sum().sort_values(ascending=True))\n",
    "column_names = list(df.columns.values)\n",
    "plt.style.use('default')\n",
    "plt.barh(column_names, Values)\n",
    "plt.title('Number of days the stock prices ' + increaseOrDecreaseText)\n",
    "plt.xlabel('Number of days ' + increaseOrDecreaseText)\n",
    "plt.show()"
   ]
  },
  {
   "cell_type": "code",
   "execution_count": null,
   "metadata": {},
   "outputs": [],
   "source": [
    "plt.figure(figsize = (9,6))\n",
    "Values=df.mean()*100\n",
    "Values=list(Values.sort_values(ascending=True))\n",
    "column_names = list(df.columns.values)\n",
    "plt.barh(column_names, Values)\n",
    "plt.title('Percentage of number of days the stock price ' + increaseOrDecreaseText)\n",
    "plt.xlabel('Percentage of days ')\n",
    "for i in range(len(Values)):\n",
    "    plt.text(x= 40,y= i,s= str(round(Values[i]))+'%', color='white')\n",
    "plt.show()\n"
   ]
  },
  {
   "cell_type": "code",
   "execution_count": null,
   "metadata": {},
   "outputs": [],
   "source": [
    "plt.figure(figsize = (9,6))\n",
    "Values= list(df.std().sort_values(ascending = False))\n",
    "plt.barh(column_names, Values)\n",
    "plt.title('Standard Deviation of number of days the stock price ' + increaseOrDecreaseText)\n",
    "plt.xlabel('Standard Deviation')\n",
    "for i in range(len(Values)):\n",
    "    plt.text(x= 0.4,y= i,s= round(Values[i],4), color='white')\n",
    "plt.show()"
   ]
  },
  {
   "cell_type": "code",
   "execution_count": null,
   "metadata": {},
   "outputs": [],
   "source": [
    "#Now replace 1s with True and 0s with False. \n",
    "df = df.replace(1,True)\n",
    "df = df.replace(0,False)\n",
    "df.head()\n",
    "#and Data has been preprocessed"
   ]
  },
  {
   "cell_type": "code",
   "execution_count": null,
   "metadata": {},
   "outputs": [],
   "source": [
    "#Now get frequent itemsets\n",
    "#get the minimum support from the user\n",
    "minSup=eval(input(\"Please enter minimum Support value: \"))\n",
    "#Obtain the frequent itemsets\n",
    "df_frequent = apriori(df, min_support = minSup, use_colnames = True, verbose = 1)\n",
    "print('The Frequent itemsets with Minimum Support='+ str(minSup))\n",
    "df_frequent.sort_values(\"support\",ascending=False)\n"
   ]
  },
  {
   "cell_type": "code",
   "execution_count": null,
   "metadata": {},
   "outputs": [],
   "source": [
    "#Now get Association rules\n",
    "#get reqired the minimum confidence\n",
    "minConf=eval(input(\"Please enter minimum Confidence value: \"))\n",
    "df_ar = association_rules(df_frequent, metric = \"confidence\", min_threshold = minConf)\n",
    "#Filter rules for lift>1\n",
    "df_ar = df_ar[df_ar['lift'] > 1]\n",
    "df_ar = df_ar[['antecedents', 'consequents','antecedent support','consequent support','support','confidence','lift']]\n",
    "print('The association rules with Minimum Support='+ str(minSup) + ' and Minimum Confidence='+ str(minConf) + ' and Lift>1')\n",
    "df_ar.sort_values('lift', ascending = False)"
   ]
  },
  {
   "cell_type": "code",
   "execution_count": null,
   "metadata": {},
   "outputs": [],
   "source": [
    "sns.scatterplot(data=df_ar,x='support',y='confidence')\n",
    "plt.title('Support versus Confidence of Association Rules')\n",
    "plt.show()"
   ]
  },
  {
   "cell_type": "code",
   "execution_count": null,
   "metadata": {},
   "outputs": [],
   "source": [
    "from mpl_toolkits import mplot3d\n",
    "\n",
    "plt.figure(figsize = (7,7))\n",
    "ax = plt.axes(projection='3d')\n",
    "x=df_ar['support']\n",
    "y=df_ar['confidence']\n",
    "z=df_ar['lift']\n",
    "#adding title and labels\n",
    "ax.set_title(\"3D Scatter plot of support-confidence-lift\")\n",
    "ax.set_xlabel('SUPPORT')\n",
    "ax.set_ylabel('CONFIDENCE')\n",
    "ax.set_zlabel('LIFT')\n",
    "ax.xaxis.label.set_color('red')\n",
    "ax.yaxis.label.set_color('red')\n",
    "ax.zaxis.label.set_color('red')\n",
    "#ax.scatter(data=df_ar, x='support', y='confidence', z='lift')\n",
    "ax.scatter(x, y, z,color='green')\n",
    "plt.show()"
   ]
  },
  {
   "cell_type": "markdown",
   "metadata": {},
   "source": [
    "###### MUSA'S CODE STARTS HERE\n"
   ]
  },
  {
   "cell_type": "code",
   "execution_count": null,
   "metadata": {},
   "outputs": [],
   "source": [
    "# Extract frequent itemsets using Apriori algorithm\n",
    "frequent_itemsets = apriori(df, min_support=0.01, use_colnames=True)\n",
    "\n",
    "# Print frequent patterns\n",
    "print(\"Frequent Patterns:\")\n",
    "print(frequent_itemsets)\n",
    "\n",
    "# Get user input for min_support and min_confidence\n",
    "min_support = float(input(\"Enter the minimum support: \"))\n",
    "min_confidence = float(input(\"Enter the minimum confidence: \"))\n",
    "\n",
    "# Generate association rules\n",
    "rules = association_rules(frequent_itemsets, metric=\"confidence\", min_threshold=min_confidence)\n",
    "\n",
    "# Filter rules based on min_support and lift\n",
    "strong_rules = rules[(rules['support'] >= min_support) & (rules['lift'] >= 1)]\n",
    "\n",
    "# Print strong association rules\n",
    "print(\"\\nStrong Association Rules:\")\n",
    "for _, row in strong_rules.iterrows():\n",
    "    antecedents = ', '.join(str(item) for item in row['antecedents'])\n",
    "    consequents = ', '.join(str(item) for item in row['consequents'])\n",
    "    confidence = row['confidence']\n",
    "    print(f\"{antecedents} -> {consequents} (Confidence: {confidence})\")\n",
    "\n",
    "# Generate scatterplot of Support versus Confidence\n",
    "support_values = strong_rules['support']\n",
    "confidence_values = strong_rules['confidence']\n",
    "\n",
    "plt.figure(figsize=(8, 6))\n",
    "plt.scatter(support_values, confidence_values)\n",
    "plt.title('Support versus Confidence of Association Rules')\n",
    "plt.xlabel('Support')\n",
    "plt.ylabel('Confidence')\n",
    "plt.show()"
   ]
  },
  {
   "cell_type": "code",
   "execution_count": null,
   "metadata": {},
   "outputs": [],
   "source": []
  },
  {
   "cell_type": "code",
   "execution_count": null,
   "metadata": {},
   "outputs": [],
   "source": []
  }
 ],
 "metadata": {
  "kernelspec": {
   "display_name": "Python 3 (ipykernel)",
   "language": "python",
   "name": "python3"
  },
  "language_info": {
   "codemirror_mode": {
    "name": "ipython",
    "version": 3
   },
   "file_extension": ".py",
   "mimetype": "text/x-python",
   "name": "python",
   "nbconvert_exporter": "python",
   "pygments_lexer": "ipython3",
   "version": "3.9.13"
  }
 },
 "nbformat": 4,
 "nbformat_minor": 2
}
